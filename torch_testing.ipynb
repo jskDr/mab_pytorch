{
 "cells": [
  {
   "cell_type": "code",
   "execution_count": 1,
   "metadata": {},
   "outputs": [],
   "source": [
    "%load_ext autoreload\n",
    "%autoreload 2"
   ]
  },
  {
   "cell_type": "code",
   "execution_count": 2,
   "metadata": {},
   "outputs": [],
   "source": [
    "import torch"
   ]
  },
  {
   "cell_type": "code",
   "execution_count": 3,
   "metadata": {},
   "outputs": [],
   "source": [
    "import mab_pytorch"
   ]
  },
  {
   "cell_type": "code",
   "execution_count": 4,
   "metadata": {},
   "outputs": [
    {
     "name": "stdout",
     "output_type": "stream",
     "text": [
      "====================================\n",
      "MAB problem with 5 Bernoulli reward arms\n",
      "mu_arms = tensor([0.1000, 0.2000, 0.3000, 0.4000, 0.5000])\n",
      "\n",
      "------------------------------------\n",
      "Method: fully random selection\n",
      "\n",
      "Numerical results with 1000 epochs\n",
      "Q=tensor([0.1309, 0.1809, 0.2944, 0.3381, 0.4518])\n",
      "E[N]=tensor([0.1910, 0.1880, 0.2140, 0.2100, 0.1970])\n",
      "total gain=282.0\n",
      "\n",
      "Theorecical values with infinity epochs\n",
      "Q=tensor([0.1000, 0.2000, 0.3000, 0.4000, 0.5000])\n",
      "E[N]= [0.2, 0.2, 0.2, 0.2, 0.2]\n",
      "total gain=300.0\n",
      "\n",
      "------------------------------------\n",
      "Method: greedy selection\n",
      "\n",
      "Numerical results with 1000 epochs, 100 traials\n",
      "Q=tensor([0.0009, 0.0101, 0.0184, 0.0282, 0.4077])\n",
      "E[N]=tensor([0.0102, 0.0502, 0.0601, 0.0701, 0.8094])\n",
      "total gain=465.0599060058594\n"
     ]
    }
   ],
   "source": [
    "mab_pytorch.main()"
   ]
  },
  {
   "cell_type": "markdown",
   "metadata": {},
   "source": [
    "# Theoretical analysis of fully random selection\n",
    "$$\\hat{Q}_k[a] = E\\left[ \\frac{1}{N_k} \\sum_{k=1}^K r_k 1(a_k=a) \\right]\\\\\n",
    "= E[\\frac{1}{N_k} N_k] E[r_k 1(a_k=a)]\\\\\n",
    "= \\mu[a]$$\n",
    "where $\\mu[a] = E[r[a]]$ is a mean of arm $a$."
   ]
  }
 ],
 "metadata": {
  "kernelspec": {
   "display_name": "pytorch",
   "language": "python",
   "name": "pytorch"
  },
  "language_info": {
   "codemirror_mode": {
    "name": "ipython",
    "version": 3
   },
   "file_extension": ".py",
   "mimetype": "text/x-python",
   "name": "python",
   "nbconvert_exporter": "python",
   "pygments_lexer": "ipython3",
   "version": "3.8.3"
  }
 },
 "nbformat": 4,
 "nbformat_minor": 4
}
